{
 "cells": [
  {
   "cell_type": "code",
   "execution_count": 1,
   "metadata": {},
   "outputs": [],
   "source": [
    "from numpy import *\n",
    "from skimage import io, color\n",
    "\n",
    "#random.seed(0)\n",
    "#im = random.randint(0, 255, [1000, 1000], dtype=int)\n",
    "imrgb = io.imread('img.png')\n",
    "imrgb = imrgb[200:220,400:420,:]\n",
    "im = color.rgb2gray(imrgb)\n",
    "\n",
    "def get_L(imrgb):\n",
    "    imlab = color.rgb2lab(imrgb)\n",
    "    imlab[:,:,0] = imlab[:,:,0]*0.3\n",
    "    im = color.rgb2gray(imrgb)\n",
    "    ind_mat = arange(0,prod(im.shape), dtype=int).reshape(im.shape)\n",
    "\n",
    "    pairs_mat = zeros(append(im.shape, 8), dtype=int)\n",
    "    pairs_mat[:,:,0] = roll(ind_mat, 1, axis=0)\n",
    "    pairs_mat[:,:,1] = roll(ind_mat, -1, axis=0)\n",
    "    pairs_mat[:,:,2] = roll(ind_mat, 1, axis=1)\n",
    "    pairs_mat[:,:,3] = roll(ind_mat, -1, axis=1)\n",
    "    pairs_mat[:,:,4] = roll(roll(ind_mat, 1, axis=0), 1 , axis=1)\n",
    "    pairs_mat[:,:,5] = roll(roll(ind_mat, 1, axis=0), -1, axis=1)\n",
    "    pairs_mat[:,:,6] = roll(roll(ind_mat, -1, axis=0), 1, axis=1)\n",
    "    pairs_mat[:,:,7] = roll(roll(ind_mat, -1, axis=0), -1, axis=1)\n",
    "\n",
    "    pairs1 = pairs_mat.flatten().reshape(1,8*prod(im.shape))\n",
    "    pairs2 = repeat(ind_mat[:,:, newaxis], 8, axis=2).flatten().reshape(1,8*prod(im.shape))\n",
    "    pairs = append(pairs2, pairs1, axis=0).transpose()\n",
    "    pairs_u = sort(pairs, axis=1)\n",
    "    pairs_u = unique(pairs_u, axis=0)\n",
    "\n",
    "    M = zeros([8, prod(im.shape)])\n",
    "    for pair in pairs_u:\n",
    "        for k in range(8):\n",
    "            if M[k, pair[0]] == 0:\n",
    "                temp =  exp(linalg.norm(imlab[unravel_index(pair[0], tuple(im.shape))]-imlab[unravel_index(pair[1], tuple(im.shape))])/-2.0)\n",
    "                M[k, pair[0]] = temp.copy()\n",
    "                M[k, pair[1]] = (-1*temp).copy()\n",
    "    L = asfarray([M, zeros(M.shape), zeros(M.shape), zeros(M.shape), M, zeros(M.shape), zeros(M.shape), zeros(M.shape), M]).reshape((3*M.shape[0], 3*M.shape[1])) \n",
    "    return L"
   ]
  },
  {
   "cell_type": "code",
   "execution_count": 2,
   "metadata": {},
   "outputs": [],
   "source": [
    "L = get_L(imrgb)"
   ]
  },
  {
   "cell_type": "code",
   "execution_count": 3,
   "metadata": {},
   "outputs": [],
   "source": [
    "c0 = 20.0 #alpha\n",
    "c1 = 120.0 #lambda\n",
    "c2 = 50.0 #theta\n",
    "pixel_num = prod(im.shape)\n",
    "target = transpose(asfarray([imrgb[:,:,0].flatten(), imrgb[:,:,1].flatten(), imrgb[:,:,2].flatten()])).flatten()\n",
    "\n",
    "#from scipy import sparse\n",
    "#L_s = sparse.csr_matrix(L) "
   ]
  },
  {
   "cell_type": "code",
   "execution_count": 4,
   "metadata": {},
   "outputs": [],
   "source": [
    "L= c0 * L\n",
    "left_hand = c1*dot(transpose(L), L) + c2*identity(L.shape[1])"
   ]
  },
  {
   "cell_type": "code",
   "execution_count": 5,
   "metadata": {},
   "outputs": [],
   "source": [
    "ref = zeros((pixel_num*3,1))\n",
    "old_ref = target.copy()\n",
    "b_1 = zeros([L.shape[0],1])\n",
    "d_1 = zeros([L.shape[0],1])"
   ]
  },
  {
   "cell_type": "code",
   "execution_count": 6,
   "metadata": {
    "scrolled": true
   },
   "outputs": [],
   "source": [
    "def shrink(v, lam):\n",
    "    index = (v<0).ravel().nonzero();\n",
    "    d = maximum(abs(v) - lam, 0);\n",
    "    d[index] = -1 * d[index];\n",
    "    return d\n",
    "\n",
    "itr_num = 5\n",
    "for i in range(itr_num):\n",
    "    old_ref = ref;\n",
    "    right_hand = c2*target.reshape([target.shape[0], 1]) + c1*(dot(transpose(L),(d_1 - b_1)))\n",
    "\n",
    "    ref = linalg.solve(left_hand, right_hand)\n",
    "    temp_1 = dot(L,ref)\n",
    "    d_1 = shrink(temp_1 + b_1, (1.0/c1))\n",
    "    b_1 = b_1 + temp_1 - d_1 \n",
    "                 "
   ]
  },
  {
   "cell_type": "code",
   "execution_count": 7,
   "metadata": {},
   "outputs": [],
   "source": [
    "flat_image = uint8(ref).reshape(imrgb.shape)"
   ]
  },
  {
   "cell_type": "code",
   "execution_count": 8,
   "metadata": {},
   "outputs": [
    {
     "data": {
      "image/png": "[encoded data removed]",
      "text/plain": [
       "<Figure size 432x288 with 1 Axes>"
      ]
     },
     "metadata": {},
     "output_type": "display_data"
    }
   ],
   "source": [
    "%matplotlib inline\n",
    "import matplotlib.pyplot as plt\n",
    "plt.imshow(imrgb)\n",
    "plt.show()"
   ]
  },
  {
   "cell_type": "code",
   "execution_count": 9,
   "metadata": {},
   "outputs": [
    {
     "data": {
      "image/png": "[encoded data removed]",
      "text/plain": [
       "<Figure size 432x288 with 1 Axes>"
      ]
     },
     "metadata": {},
     "output_type": "display_data"
    }
   ],
   "source": [
    "%matplotlib inline\n",
    "import matplotlib.pyplot as plt\n",
    "plt.imshow(flat_image)\n",
    "plt.show()"
   ]
  }
 ],
 "metadata": {
  "kernelspec": {
   "display_name": "Python 2",
   "language": "python",
   "name": "python2"
  },
  "language_info": {
   "codemirror_mode": {
    "name": "ipython",
    "version": 2
   },
   "file_extension": ".py",
   "mimetype": "text/x-python",
   "name": "python",
   "nbconvert_exporter": "python",
   "pygments_lexer": "ipython2",
   "version": "2.7.14"
  }
 },
 "nbformat": 4,
 "nbformat_minor": 2
}
